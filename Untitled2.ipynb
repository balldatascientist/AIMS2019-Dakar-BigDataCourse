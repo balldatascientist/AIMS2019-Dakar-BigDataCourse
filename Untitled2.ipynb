{
  "nbformat": 4,
  "nbformat_minor": 0,
  "metadata": {
    "colab": {
      "name": "Untitled2.ipynb",
      "provenance": [],
      "include_colab_link": true
    },
    "kernelspec": {
      "display_name": "Python 3",
      "language": "python",
      "name": "python3"
    },
    "language_info": {
      "codemirror_mode": {
        "name": "ipython",
        "version": 3
      },
      "file_extension": ".py",
      "mimetype": "text/x-python",
      "name": "python",
      "nbconvert_exporter": "python",
      "pygments_lexer": "ipython3",
      "version": "3.7.4"
    }
  },
  "cells": [
    {
      "cell_type": "markdown",
      "metadata": {
        "id": "view-in-github",
        "colab_type": "text"
      },
      "source": [
        "<a href=\"https://colab.research.google.com/github/balldatascientist/AIMS2019-Dakar-BigDataCourse/blob/master/Untitled2.ipynb\" target=\"_parent\"><img src=\"https://colab.research.google.com/assets/colab-badge.svg\" alt=\"Open In Colab\"/></a>"
      ]
    },
    {
      "cell_type": "markdown",
      "metadata": {
        "colab_type": "text",
        "id": "V0uvYewdz7rA"
      },
      "source": [
        "<img src=\"https://github.com/balldatascientist/Crimes_prediction/blob/master/images/logo.png?raw=1\" height=\"100\" width=\"900\" align=\"right\"> "
      ]
    },
    {
      "cell_type": "markdown",
      "metadata": {
        "colab_type": "text",
        "id": "HtJaZ0whaVoM"
      },
      "source": [
        "<!-- blank -->"
      ]
    },
    {
      "cell_type": "markdown",
      "metadata": {
        "colab_type": "text",
        "id": "_uN_7gdc1d0w"
      },
      "source": [
        "\n",
        "<img src=\"https://github.com/balldatascientist/Crimes_prediction/blob/master/images/crime_scene.jpg?raw=1\" height=\"300\" width=\"900\" align=\"right\">\n"
      ]
    },
    {
      "cell_type": "markdown",
      "metadata": {
        "colab_type": "text",
        "id": "9thdQAvWHFMC"
      },
      "source": [
        "# <a style=\"color:#6699ff\"> Crimes Prediction in Montgomery County in the State of Maryland  </a>"
      ]
    },
    {
      "cell_type": "markdown",
      "metadata": {
        "colab_type": "text",
        "id": "e3AcBrkkDR5c"
      },
      "source": [
        "####  <a style=\"color:#6699ff\"> Investigators </a>: \n",
        "\n",
        "- BALL Alhousseynou (ball.alhousseynou@ugb.edu.sn)\n",
        "- JOURDAN Fanny (fannyjourdan10@hotmail.fr)\n",
        "- DIOP Seyni (eynise9681@gmail.com)\n",
        "- LO Ndeye (ndsllo@yahoo.com)\n",
        "- SIDIBE Bakary (bsidibe04@gmail.com)\n"
      ]
    },
    {
      "cell_type": "markdown",
      "metadata": {
        "colab_type": "text",
        "id": "ODkf95yuhlMn"
      },
      "source": [
        "<a style=\"color:#6699ff\">  Sommaire</a> \n",
        "\n",
        "<a style=\"color:#6699ff\"> I. Introduction</a>\n",
        "\n",
        "<a style=\"color:#6699ff\"> II. Statistiques & Visualisation</a>\n",
        "\n",
        "<a style=\"color:#6699ff\"> III. Feature Engineering</a>\n",
        "\n",
        "\n",
        "<a style=\"color:#6699ff\"> IV. Submission</a>\n",
        "\n",
        "  "
      ]
    },
    {
      "cell_type": "markdown",
      "metadata": {
        "colab_type": "text",
        "id": "D0R3eeUHn_EA"
      },
      "source": [
        "---"
      ]
    },
    {
      "cell_type": "code",
      "metadata": {
        "colab_type": "code",
        "id": "6GP8NcysaEvu",
        "colab": {}
      },
      "source": [
        "!pip install https://api.github.com/repos/paris-saclay-cds/ramp-workflow/zipball/master"
      ],
      "execution_count": 0,
      "outputs": []
    },
    {
      "cell_type": "code",
      "metadata": {
        "colab_type": "code",
        "id": "RC0h5G5Gc9T5",
        "colab": {}
      },
      "source": [
        "import pandas as pd\n",
        "import numpy as np\n",
        "import matplotlib.pyplot as plt\n",
        "import rampwf as rw\n",
        "from rampwf.workflows import FeatureExtractorRegressor\n",
        "from rampwf.score_types.base import BaseScoreType\n",
        "from sklearn.model_selection import GroupShuffleSplit\n",
        "import os\n",
        "\n"
      ],
      "execution_count": 0,
      "outputs": []
    },
    {
      "cell_type": "code",
      "metadata": {
        "colab_type": "code",
        "id": "FxBJQWKEFI19",
        "outputId": "2570c947-a539-44a1-95ad-402228cdea69",
        "colab": {
          "base_uri": "https://localhost:8080/",
          "height": 85
        }
      },
      "source": [
        "# Pour les utilisateurs de google colab\n",
        "\n",
        "# cloner le dossier githup dans drive\n",
        "from google.colab import drive\n",
        "drive.mount('/content/drive')\n",
        "%cd \"/content/drive/My Drive\"\n",
        "! git clone https://github.com/balldatascientist/Crimes_prediction.git\n",
        "%cd \"/content/drive/My Drive/Crimes_prediction\"\n",
        "\n",
        "# Pour les utilisateurs de google colab"
      ],
      "execution_count": 0,
      "outputs": [
        {
          "output_type": "stream",
          "text": [
            "Drive already mounted at /content/drive; to attempt to forcibly remount, call drive.mount(\"/content/drive\", force_remount=True).\n",
            "/content/drive/My Drive\n",
            "fatal: destination path 'Crimes_prediction' already exists and is not an empty directory.\n",
            "/content/drive/My Drive/Crimes_prediction\n"
          ],
          "name": "stdout"
        }
      ]
    },
    {
      "cell_type": "code",
      "metadata": {
        "colab_type": "code",
        "id": "1T58sxvvR2DX",
        "colab": {}
      },
      "source": [
        "from problem import get_train_data"
      ],
      "execution_count": 0,
      "outputs": []
    },
    {
      "cell_type": "code",
      "metadata": {
        "colab_type": "code",
        "id": "3VOUxmmJ7bDE",
        "outputId": "a128c30c-dcb7-48ab-db73-39502faea317",
        "colab": {
          "base_uri": "https://localhost:8080/",
          "height": 71
        }
      },
      "source": [
        "data_train, target_train = get_train_data()"
      ],
      "execution_count": 0,
      "outputs": [
        {
          "output_type": "stream",
          "text": [
            "/usr/local/lib/python3.6/dist-packages/IPython/core/interactiveshell.py:2882: DtypeWarning: Columns (1,18) have mixed types. Specify dtype option on import or set low_memory=False.\n",
            "  exec(code_obj, self.user_global_ns, self.user_ns)\n"
          ],
          "name": "stderr"
        }
      ]
    },
    {
      "cell_type": "markdown",
      "metadata": {
        "colab_type": "text",
        "id": "xp_9IM_Ihlj2"
      },
      "source": [
        "<a style=\"color:#6699ff\"> I. Introduction</a>"
      ]
    },
    {
      "cell_type": "markdown",
      "metadata": {
        "colab_type": "text",
        "id": "cPJ__czs11c6"
      },
      "source": [
        "**Présentation du sujet**\n"
      ]
    },
    {
      "cell_type": "markdown",
      "metadata": {
        "colab_type": "text",
        "id": "dEj5mN0EWOG5"
      },
      "source": [
        "Le comté de Montgomery (Montgomery County) est l’un des 23 comtés de l'État du Maryland aux États-Unis. Il est situé au nord-ouest de Washington. Il est constitué de 46 villes et son siège se trouve à Rockville. \n",
        "C'est le comté le plus peuplé de l'Etat et sa population est en constante augmentation. C'est d'ailleurs aussi l'un des plus riche des Etats-Unis. \n",
        "Malgré une politique qui cherche à réduire le nombre de crime et délit dans le comté (applique le contrôle important sur la vente d'alcool), il enregistre près de [] crimes par an. \n",
        "\n",
        "Il serait alors une question de sécurité publique de pouvoir **prédire le nombre de crime par mois et par ville** pour pouvoir mieux définitiir les zones à risque et renforcer la présence de la police dans ces zones.\n",
        "\n",
        "\n",
        "![Montgomery Maps](https://www.worldatlas.com/img/us-county/236-montgomery-county-maryland.jpg)\n",
        "\n"
      ]
    },
    {
      "cell_type": "markdown",
      "metadata": {
        "colab_type": "text",
        "id": "45AQ4L2S3N_k"
      },
      "source": [
        "**Présentation de la base de donnée**\n"
      ]
    },
    {
      "cell_type": "markdown",
      "metadata": {
        "colab_type": "text",
        "id": "7NqDVlX0ZZ8S"
      },
      "source": [
        "La base de donnée a été extraite du site [data.montgomerycountymd.gov](https://data.montgomerycountymd.gov/), elle y a été rajoutée en 2015, et mise à jour régulièrement depuis. \n",
        "Elle a été fourni par *Montgomery County, MD* et est disponible sous licence libre à l’url [suivant](https://data.montgomerycountymd.gov/Public-Safety/Crime/icn6-v9z3?fbclid=IwAR0LKgXs6uzlvbYoPBfCfrLWujrSkCu_70u5mwbPeYqEGqKX-dbITG-Q6D0).\n",
        "\n",
        "![Montgomerygif](https://data.montgomerycountymd.gov/api/assets/42E3720A-FCA1-4120-9D5B-0B3C8D0AB103?dataMontgomery.png)\n",
        "\n",
        "Elle est constituée de 188000 lignes et 30 colonnes (nous en analyserons seulement 24 ici car les 6 dernières ont peu d'utilité).\n",
        "\n",
        "Grâce à ces nombreuses colonnes nous avons accès à différents types d'informations:\n",
        "* L'identifiant exact du crime commit avec les colonnes **Incident ID** (Text), **Offence Code** (Text), **CR Number** (Text) et **NIBRS Code** (Text);\n",
        "* La date avec les colonnes **Dispatch Date / Time** (Floating Timestamp), **Start_Date_Time** (Floating Timestamp) et **End_Date_Time** (Floating Timestamp) ;\n",
        "* Le nombre de victime avec la colonne **Victims** (Number) ;\n",
        "* Le type de crime réalisé avec les colonnes **Crime Name1** (Text), **Crime Name2** (Text) et **Crime Name3** (Text) ;\n",
        "\n",
        "Nous n'avons pas besoin d'identifiant exact pour notre problème car nous cherchons seulement à prédire un nombre de crime par mois et par ville. Nous avons alors besoin d'une colonne date qui pourra être créée à l'aide des colonnes **Dispatch Date / Time**, **Start_Date_Time** et **End_Date_Time** car elles auront toutes la même date et en les fusionnant cela nous permettra d'avoir moins de valeurs manquantes. Nous pouvons garder pour l'instant les colonnes **Victims** et **Crime Name1** pour pouvoir faire des statistiques sur ces valeurs.\n",
        "\n",
        "\n",
        "\n",
        "Nous avons aussi beaucoup d'informations sur la localisation du crime telles que les colonnes:\n",
        "* **State** (Text) qui nous donne l'état où a eu lieu le crime ;\n",
        "* **Police District Name** (Text), **City** (Text) ou **Zip Code** (Text) qui nous permettent d'avoir la ville où a été commit le crime ;\n",
        "* **Sector** (Text), une division de District, **Beat** (Text), une division de Sector,\tou **PRA** (Text), une division de Beat ;\n",
        "* **Address Number** (Text) , **Street Type** (Text) et **Street Name** (Text), qui nous donne à elles trois l'adresse exact;\n",
        "* **Latitude** (Text) et **Longitude** (Text), qui nous donne à elles deux l'adresse exacte ;\n",
        "* **Location** (Location) qui nous donne l'adresse exacte.\n",
        "\n",
        "Avoir une adresse trop précise n'est pas vraiment une bonne chose dans notre problème car cela favoriserait le sur-apprentissage. Nous décidons donc de supprimer les colonnes liées à la localisation autre que **Police District Name** et **City**. Nous ne gardons pas non plus la colonne **State** car nous regardons seulement les crimes dans le canton de Montgomery donc nous sommes toujours dans le même Etat.\n",
        "\n",
        "\n",
        "Pour créer des colonnes supplémentaires qui pourraient nous servir pour la prédiction du nombre de crimes par mois par villes, nous ajoutons les datasets suivants:\n",
        "- **JoursferiesMontgomery**, qui répertorie les jours fériés de 2015 à 2019 dans le comté de Montgomery avec une seule colonne **Date** (Text);\n",
        "- **Evenements_sportifs_USA**, qui répertorie les dates du Super Bowl et des jours de match durant la finale de la NBA sur les année 2015 à 2019 avec une colonne **Evenement Sportif** (Text) qui donne le nom de l'évènement (Super Bowl ou NBA) et une colonne **Date** (Text).\n",
        "\n",
        "Nous avons nous même créé ces dataset à l'aide d'Excel et des dates trouvées sur plusieurs sites internet comme Wikipédia.\n"
      ]
    },
    {
      "cell_type": "markdown",
      "metadata": {
        "colab_type": "text",
        "id": "4DQvs7ZL3ZKw"
      },
      "source": [
        "**Choix de la fonction de perte**"
      ]
    },
    {
      "cell_type": "markdown",
      "metadata": {
        "colab_type": "text",
        "id": "86FBx2Hi7wF9"
      },
      "source": [
        "Nous choisissons la fonction de perte suivante :\n",
        "$$score =  |log(max(1,y\\_true)) - log(max(1,y\\_pred))| $$\n",
        "car puisque notre objectif est de pouvoir élaborer un budget alloué à chaque ville par mois, il y aura un plus gros impact économique à se tromper de 10 crimes sur une ville qui en comptabilise moins de 100 (plus de 10% d'erreur) plutôt que sur une ville qui en comptabilise plus de 10000 (moins de 0.1% d'erreur).\n"
      ]
    },
    {
      "cell_type": "markdown",
      "metadata": {
        "colab_type": "text",
        "id": "RJHlp4TTnsX1"
      },
      "source": [
        "<a style=\"color:#6699ff\"> II. Statistiques & Visualisation</a>"
      ]
    },
    {
      "cell_type": "code",
      "metadata": {
        "colab_type": "code",
        "id": "CbwQ3he6ih3Y",
        "outputId": "f6ab44d3-daf9-474d-eb48-e1062a14e030",
        "colab": {
          "base_uri": "https://localhost:8080/",
          "height": 445
        }
      },
      "source": [
        "data_train.head()"
      ],
      "execution_count": 0,
      "outputs": [
        {
          "output_type": "execute_result",
          "data": {
            "text/html": [
              "<div>\n",
              "<style scoped>\n",
              "    .dataframe tbody tr th:only-of-type {\n",
              "        vertical-align: middle;\n",
              "    }\n",
              "\n",
              "    .dataframe tbody tr th {\n",
              "        vertical-align: top;\n",
              "    }\n",
              "\n",
              "    .dataframe thead th {\n",
              "        text-align: right;\n",
              "    }\n",
              "</style>\n",
              "<table border=\"1\" class=\"dataframe\">\n",
              "  <thead>\n",
              "    <tr style=\"text-align: right;\">\n",
              "      <th></th>\n",
              "      <th>Incident ID</th>\n",
              "      <th>Offence Code</th>\n",
              "      <th>CR Number</th>\n",
              "      <th>Dispatch Date / Time</th>\n",
              "      <th>NIBRS Code</th>\n",
              "      <th>Victims</th>\n",
              "      <th>Crime Name1</th>\n",
              "      <th>Crime Name2</th>\n",
              "      <th>Crime Name3</th>\n",
              "      <th>Police District Name</th>\n",
              "      <th>Block Address</th>\n",
              "      <th>City</th>\n",
              "      <th>State</th>\n",
              "      <th>Zip Code</th>\n",
              "      <th>Agency</th>\n",
              "      <th>Place</th>\n",
              "      <th>Sector</th>\n",
              "      <th>Beat</th>\n",
              "      <th>PRA</th>\n",
              "      <th>Address Number</th>\n",
              "      <th>Street Prefix</th>\n",
              "      <th>Street Name</th>\n",
              "      <th>Street Suffix</th>\n",
              "      <th>Street Type</th>\n",
              "      <th>Start_Date_Time</th>\n",
              "      <th>End_Date_Time</th>\n",
              "      <th>Latitude</th>\n",
              "      <th>Longitude</th>\n",
              "      <th>Police District Number</th>\n",
              "      <th>Location</th>\n",
              "    </tr>\n",
              "  </thead>\n",
              "  <tbody>\n",
              "    <tr>\n",
              "      <th>0</th>\n",
              "      <td>201212439</td>\n",
              "      <td>2304</td>\n",
              "      <td>180054310</td>\n",
              "      <td>2018-10-30</td>\n",
              "      <td>23G</td>\n",
              "      <td>1</td>\n",
              "      <td>Crime Against Property</td>\n",
              "      <td>Theft of Motor Vehicle Parts or Accessories</td>\n",
              "      <td>LARCENY - AUTO PARTS</td>\n",
              "      <td>WHEATON</td>\n",
              "      <td>12300 BLK  GOODHILL RD</td>\n",
              "      <td>SILVER SPRING</td>\n",
              "      <td>MD</td>\n",
              "      <td>20902.0</td>\n",
              "      <td>MCPD</td>\n",
              "      <td>Street - Residential</td>\n",
              "      <td>L</td>\n",
              "      <td>4L1</td>\n",
              "      <td>331</td>\n",
              "      <td>12300.0</td>\n",
              "      <td>NaN</td>\n",
              "      <td>GOODHILL</td>\n",
              "      <td>NaN</td>\n",
              "      <td>RD</td>\n",
              "      <td>10/29/2018 03:00:00 PM</td>\n",
              "      <td>10/30/2018 08:30:00 AM</td>\n",
              "      <td>39.056958</td>\n",
              "      <td>-77.069797</td>\n",
              "      <td>4D</td>\n",
              "      <td>(39.057, -77.0698)</td>\n",
              "    </tr>\n",
              "    <tr>\n",
              "      <th>1</th>\n",
              "      <td>201118642</td>\n",
              "      <td>9106</td>\n",
              "      <td>17001171</td>\n",
              "      <td>2017-01-07</td>\n",
              "      <td>90Z</td>\n",
              "      <td>1</td>\n",
              "      <td>Other</td>\n",
              "      <td>All Other Offenses</td>\n",
              "      <td>MENTAL ILLNESS</td>\n",
              "      <td>SILVER SPRING</td>\n",
              "      <td>13500 BLK  GREENCASTLE RIDGE TER</td>\n",
              "      <td>BURTONSVILLE</td>\n",
              "      <td>MD</td>\n",
              "      <td>20866.0</td>\n",
              "      <td>MCPD</td>\n",
              "      <td>Residence - Apartment/Condo</td>\n",
              "      <td>I</td>\n",
              "      <td>3I2</td>\n",
              "      <td>380</td>\n",
              "      <td>13500.0</td>\n",
              "      <td>NaN</td>\n",
              "      <td>GREENCASTLE RIDGE</td>\n",
              "      <td>NaN</td>\n",
              "      <td>TER</td>\n",
              "      <td>01/07/2017 01:58:00 PM</td>\n",
              "      <td>NaN</td>\n",
              "      <td>39.076908</td>\n",
              "      <td>-76.929493</td>\n",
              "      <td>3D</td>\n",
              "      <td>(39.0769, -76.9295)</td>\n",
              "    </tr>\n",
              "    <tr>\n",
              "      <th>2</th>\n",
              "      <td>201253526</td>\n",
              "      <td>9199</td>\n",
              "      <td>190040194</td>\n",
              "      <td>NaT</td>\n",
              "      <td>90Z</td>\n",
              "      <td>1</td>\n",
              "      <td>Other</td>\n",
              "      <td>All Other Offenses</td>\n",
              "      <td>POLICE INFORMATION</td>\n",
              "      <td>MONTGOMERY VILLAGE</td>\n",
              "      <td>1  BLK W WATKINS MILL RD</td>\n",
              "      <td>GAITHERSBURG</td>\n",
              "      <td>MD</td>\n",
              "      <td>20878.0</td>\n",
              "      <td>MCPD</td>\n",
              "      <td>Commercial - Office Building</td>\n",
              "      <td>P</td>\n",
              "      <td>6P2</td>\n",
              "      <td>593</td>\n",
              "      <td>1.0</td>\n",
              "      <td>W</td>\n",
              "      <td>WATKINS MILL</td>\n",
              "      <td>NaN</td>\n",
              "      <td>RD</td>\n",
              "      <td>07/09/2019 10:16:00 AM</td>\n",
              "      <td>NaN</td>\n",
              "      <td>39.147668</td>\n",
              "      <td>-77.232925</td>\n",
              "      <td>6D</td>\n",
              "      <td>(39.1477, -77.2329)</td>\n",
              "    </tr>\n",
              "    <tr>\n",
              "      <th>3</th>\n",
              "      <td>201205848</td>\n",
              "      <td>3562</td>\n",
              "      <td>180045814</td>\n",
              "      <td>2018-09-13</td>\n",
              "      <td>35A</td>\n",
              "      <td>1</td>\n",
              "      <td>Crime Against Society</td>\n",
              "      <td>Drug/Narcotic Violations</td>\n",
              "      <td>DRUGS - MARIJUANA - POSSESS</td>\n",
              "      <td>WHEATON</td>\n",
              "      <td>11900 BLK  CLARIDGE RD</td>\n",
              "      <td>SILVER SPRING</td>\n",
              "      <td>MD</td>\n",
              "      <td>20902.0</td>\n",
              "      <td>MCPD</td>\n",
              "      <td>Parking Lot - County</td>\n",
              "      <td>L</td>\n",
              "      <td>4L1</td>\n",
              "      <td>328</td>\n",
              "      <td>11900.0</td>\n",
              "      <td>NaN</td>\n",
              "      <td>CLARIDGE</td>\n",
              "      <td>NaN</td>\n",
              "      <td>RD</td>\n",
              "      <td>09/13/2018 07:13:00 PM</td>\n",
              "      <td>NaN</td>\n",
              "      <td>39.050663</td>\n",
              "      <td>-77.067120</td>\n",
              "      <td>4D</td>\n",
              "      <td>(39.0507, -77.0671)</td>\n",
              "    </tr>\n",
              "    <tr>\n",
              "      <th>4</th>\n",
              "      <td>201175190</td>\n",
              "      <td>9199</td>\n",
              "      <td>180006149</td>\n",
              "      <td>NaT</td>\n",
              "      <td>90Z</td>\n",
              "      <td>1</td>\n",
              "      <td>Other</td>\n",
              "      <td>All Other Offenses</td>\n",
              "      <td>POLICE INFORMATION</td>\n",
              "      <td>WHEATON</td>\n",
              "      <td>17000 BLK  BATCHELLORS FOREST RD</td>\n",
              "      <td>OLNEY</td>\n",
              "      <td>MD</td>\n",
              "      <td>20832.0</td>\n",
              "      <td>MCPD</td>\n",
              "      <td>School/College</td>\n",
              "      <td>J</td>\n",
              "      <td>4J2</td>\n",
              "      <td>391</td>\n",
              "      <td>17000.0</td>\n",
              "      <td>NaN</td>\n",
              "      <td>BATCHELLORS FOREST</td>\n",
              "      <td>NaN</td>\n",
              "      <td>RD</td>\n",
              "      <td>02/15/2018 02:27:00 PM</td>\n",
              "      <td>NaN</td>\n",
              "      <td>39.135861</td>\n",
              "      <td>-77.045318</td>\n",
              "      <td>4D</td>\n",
              "      <td>(39.1359, -77.0453)</td>\n",
              "    </tr>\n",
              "  </tbody>\n",
              "</table>\n",
              "</div>"
            ],
            "text/plain": [
              "   Incident ID Offence Code  ...  Police District Number             Location\n",
              "0    201212439         2304  ...                      4D   (39.057, -77.0698)\n",
              "1    201118642         9106  ...                      3D  (39.0769, -76.9295)\n",
              "2    201253526         9199  ...                      6D  (39.1477, -77.2329)\n",
              "3    201205848         3562  ...                      4D  (39.0507, -77.0671)\n",
              "4    201175190         9199  ...                      4D  (39.1359, -77.0453)\n",
              "\n",
              "[5 rows x 30 columns]"
            ]
          },
          "metadata": {
            "tags": []
          },
          "execution_count": 15
        }
      ]
    },
    {
      "cell_type": "code",
      "metadata": {
        "colab_type": "code",
        "id": "Fmhpzh3WWPjg",
        "outputId": "36f88dbd-6d4c-4d79-9623-b0f3bf66a0c3",
        "colab": {
          "base_uri": "https://localhost:8080/",
          "height": 34
        }
      },
      "source": [
        "data_train.shape"
      ],
      "execution_count": 0,
      "outputs": [
        {
          "output_type": "execute_result",
          "data": {
            "text/plain": [
              "(125427, 30)"
            ]
          },
          "metadata": {
            "tags": []
          },
          "execution_count": 16
        }
      ]
    },
    {
      "cell_type": "code",
      "metadata": {
        "colab_type": "code",
        "id": "E9a2LQPjWP_Y",
        "outputId": "355e524f-60cf-489e-dbd2-ee7d4fa445f6",
        "colab": {
          "base_uri": "https://localhost:8080/",
          "height": 34
        }
      },
      "source": [
        "target_train.shape"
      ],
      "execution_count": 0,
      "outputs": [
        {
          "output_type": "execute_result",
          "data": {
            "text/plain": [
              "(125427, 3)"
            ]
          },
          "metadata": {
            "tags": []
          },
          "execution_count": 17
        }
      ]
    },
    {
      "cell_type": "code",
      "metadata": {
        "colab_type": "code",
        "id": "z6z89UR1sWgE",
        "outputId": "df840844-31f3-4257-e7c3-3d58fe0ade55",
        "colab": {
          "base_uri": "https://localhost:8080/",
          "height": 297
        }
      },
      "source": [
        "data_train.describe()"
      ],
      "execution_count": 0,
      "outputs": [
        {
          "output_type": "execute_result",
          "data": {
            "text/html": [
              "<div>\n",
              "<style scoped>\n",
              "    .dataframe tbody tr th:only-of-type {\n",
              "        vertical-align: middle;\n",
              "    }\n",
              "\n",
              "    .dataframe tbody tr th {\n",
              "        vertical-align: top;\n",
              "    }\n",
              "\n",
              "    .dataframe thead th {\n",
              "        text-align: right;\n",
              "    }\n",
              "</style>\n",
              "<table border=\"1\" class=\"dataframe\">\n",
              "  <thead>\n",
              "    <tr style=\"text-align: right;\">\n",
              "      <th></th>\n",
              "      <th>Incident ID</th>\n",
              "      <th>CR Number</th>\n",
              "      <th>Victims</th>\n",
              "      <th>Zip Code</th>\n",
              "      <th>Address Number</th>\n",
              "      <th>Latitude</th>\n",
              "      <th>Longitude</th>\n",
              "    </tr>\n",
              "  </thead>\n",
              "  <tbody>\n",
              "    <tr>\n",
              "      <th>count</th>\n",
              "      <td>1.254270e+05</td>\n",
              "      <td>1.254270e+05</td>\n",
              "      <td>125427.000000</td>\n",
              "      <td>123289.000000</td>\n",
              "      <td>1.138390e+05</td>\n",
              "      <td>125427.000000</td>\n",
              "      <td>125427.000000</td>\n",
              "    </tr>\n",
              "    <tr>\n",
              "      <th>mean</th>\n",
              "      <td>2.011790e+08</td>\n",
              "      <td>1.444907e+08</td>\n",
              "      <td>1.021367</td>\n",
              "      <td>20876.486499</td>\n",
              "      <td>8.402063e+03</td>\n",
              "      <td>38.965713</td>\n",
              "      <td>-76.885620</td>\n",
              "    </tr>\n",
              "    <tr>\n",
              "      <th>std</th>\n",
              "      <td>5.249918e+04</td>\n",
              "      <td>6.847205e+07</td>\n",
              "      <td>0.192726</td>\n",
              "      <td>231.232865</td>\n",
              "      <td>1.418764e+04</td>\n",
              "      <td>2.123533</td>\n",
              "      <td>4.188843</td>\n",
              "    </tr>\n",
              "    <tr>\n",
              "      <th>min</th>\n",
              "      <td>2.010871e+08</td>\n",
              "      <td>1.001107e+07</td>\n",
              "      <td>1.000000</td>\n",
              "      <td>6.000000</td>\n",
              "      <td>1.000000e+00</td>\n",
              "      <td>0.000000</td>\n",
              "      <td>-77.516753</td>\n",
              "    </tr>\n",
              "    <tr>\n",
              "      <th>25%</th>\n",
              "      <td>2.011337e+08</td>\n",
              "      <td>1.705068e+08</td>\n",
              "      <td>1.000000</td>\n",
              "      <td>20854.000000</td>\n",
              "      <td>1.600000e+03</td>\n",
              "      <td>39.023631</td>\n",
              "      <td>-77.198151</td>\n",
              "    </tr>\n",
              "    <tr>\n",
              "      <th>50%</th>\n",
              "      <td>2.011792e+08</td>\n",
              "      <td>1.800126e+08</td>\n",
              "      <td>1.000000</td>\n",
              "      <td>20878.000000</td>\n",
              "      <td>8.200000e+03</td>\n",
              "      <td>39.075344</td>\n",
              "      <td>-77.100878</td>\n",
              "    </tr>\n",
              "    <tr>\n",
              "      <th>75%</th>\n",
              "      <td>2.012244e+08</td>\n",
              "      <td>1.900038e+08</td>\n",
              "      <td>1.000000</td>\n",
              "      <td>20904.000000</td>\n",
              "      <td>1.250000e+04</td>\n",
              "      <td>39.142801</td>\n",
              "      <td>-77.031367</td>\n",
              "    </tr>\n",
              "    <tr>\n",
              "      <th>max</th>\n",
              "      <td>2.012704e+08</td>\n",
              "      <td>2.019031e+08</td>\n",
              "      <td>22.000000</td>\n",
              "      <td>29882.000000</td>\n",
              "      <td>1.971000e+06</td>\n",
              "      <td>39.342086</td>\n",
              "      <td>0.000000</td>\n",
              "    </tr>\n",
              "  </tbody>\n",
              "</table>\n",
              "</div>"
            ],
            "text/plain": [
              "        Incident ID     CR Number  ...       Latitude      Longitude\n",
              "count  1.254270e+05  1.254270e+05  ...  125427.000000  125427.000000\n",
              "mean   2.011790e+08  1.444907e+08  ...      38.965713     -76.885620\n",
              "std    5.249918e+04  6.847205e+07  ...       2.123533       4.188843\n",
              "min    2.010871e+08  1.001107e+07  ...       0.000000     -77.516753\n",
              "25%    2.011337e+08  1.705068e+08  ...      39.023631     -77.198151\n",
              "50%    2.011792e+08  1.800126e+08  ...      39.075344     -77.100878\n",
              "75%    2.012244e+08  1.900038e+08  ...      39.142801     -77.031367\n",
              "max    2.012704e+08  2.019031e+08  ...      39.342086       0.000000\n",
              "\n",
              "[8 rows x 7 columns]"
            ]
          },
          "metadata": {
            "tags": []
          },
          "execution_count": 18
        }
      ]
    },
    {
      "cell_type": "markdown",
      "metadata": {
        "colab_type": "text",
        "id": "S9ntsOZFXSAG"
      },
      "source": [
        "**Proportion des NaN :**"
      ]
    },
    {
      "cell_type": "code",
      "metadata": {
        "colab_type": "code",
        "id": "Op44tnc5WQd8",
        "outputId": "c18d515a-58b2-4764-cfc2-435395e19e39",
        "colab": {
          "base_uri": "https://localhost:8080/",
          "height": 544
        }
      },
      "source": [
        "data_train.isna().sum() / data_train.shape[0]"
      ],
      "execution_count": 0,
      "outputs": [
        {
          "output_type": "execute_result",
          "data": {
            "text/plain": [
              "Incident ID               0.000000\n",
              "Offence Code              0.000000\n",
              "CR Number                 0.000000\n",
              "Dispatch Date / Time      0.153571\n",
              "NIBRS Code                0.000000\n",
              "Victims                   0.000000\n",
              "Crime Name1               0.000311\n",
              "Crime Name2               0.000311\n",
              "Crime Name3               0.000311\n",
              "Police District Name      0.000000\n",
              "Block Address             0.092644\n",
              "City                      0.004521\n",
              "State                     0.000000\n",
              "Zip Code                  0.017046\n",
              "Agency                    0.000000\n",
              "Place                     0.000000\n",
              "Sector                    0.000239\n",
              "Beat                      0.000239\n",
              "PRA                       0.000120\n",
              "Address Number            0.092388\n",
              "Street Prefix             0.956485\n",
              "Street Name               0.000000\n",
              "Street Suffix             0.980403\n",
              "Street Type               0.001523\n",
              "Start_Date_Time           0.000000\n",
              "End_Date_Time             0.515782\n",
              "Latitude                  0.000000\n",
              "Longitude                 0.000000\n",
              "Police District Number    0.000000\n",
              "Location                  0.000000\n",
              "dtype: float64"
            ]
          },
          "metadata": {
            "tags": []
          },
          "execution_count": 19
        }
      ]
    },
    {
      "cell_type": "code",
      "metadata": {
        "colab_type": "code",
        "id": "0k4HJIFtWQ7j",
        "outputId": "66f4c226-77d3-4233-d0ef-eaa8c8e63364",
        "colab": {
          "base_uri": "https://localhost:8080/",
          "height": 34
        }
      },
      "source": [
        "target_train['Crime'].isna().sum() / target_train['Crime'].shape[0]"
      ],
      "execution_count": 0,
      "outputs": [
        {
          "output_type": "execute_result",
          "data": {
            "text/plain": [
              "0.0"
            ]
          },
          "metadata": {
            "tags": []
          },
          "execution_count": 20
        }
      ]
    },
    {
      "cell_type": "markdown",
      "metadata": {
        "colab_type": "text",
        "id": "SzZ_tQt5YY5j"
      },
      "source": [
        "**Nombre d'observations distinctes pour chaque variable:**"
      ]
    },
    {
      "cell_type": "code",
      "metadata": {
        "colab_type": "code",
        "id": "pAEZOwAlWRmD",
        "outputId": "ba43230b-2605-4351-f48b-2c89cf247d1b",
        "colab": {
          "base_uri": "https://localhost:8080/",
          "height": 544
        }
      },
      "source": [
        "data_train.nunique()"
      ],
      "execution_count": 0,
      "outputs": [
        {
          "output_type": "execute_result",
          "data": {
            "text/plain": [
              "Incident ID               117925\n",
              "Offence Code                 566\n",
              "CR Number                 117920\n",
              "Dispatch Date / Time        1279\n",
              "NIBRS Code                    55\n",
              "Victims                        9\n",
              "Crime Name1                    5\n",
              "Crime Name2                   56\n",
              "Crime Name3                  309\n",
              "Police District Name           9\n",
              "Block Address              16668\n",
              "City                          42\n",
              "State                          1\n",
              "Zip Code                     141\n",
              "Agency                         7\n",
              "Place                         83\n",
              "Sector                        15\n",
              "Beat                          55\n",
              "PRA                         2268\n",
              "Address Number               346\n",
              "Street Prefix                  4\n",
              "Street Name                 6755\n",
              "Street Suffix                  6\n",
              "Street Type                   30\n",
              "Start_Date_Time            98558\n",
              "End_Date_Time              47219\n",
              "Latitude                   19578\n",
              "Longitude                  19579\n",
              "Police District Number         9\n",
              "Location                   17726\n",
              "dtype: int64"
            ]
          },
          "metadata": {
            "tags": []
          },
          "execution_count": 21
        }
      ]
    },
    {
      "cell_type": "code",
      "metadata": {
        "colab_type": "code",
        "id": "OQOMK4oYYDQI",
        "outputId": "926d111e-1bb1-4e00-b604-9d456316314d",
        "colab": {
          "base_uri": "https://localhost:8080/",
          "height": 544
        }
      },
      "source": [
        "data_train.dtypes"
      ],
      "execution_count": 0,
      "outputs": [
        {
          "output_type": "execute_result",
          "data": {
            "text/plain": [
              "Incident ID                        int64\n",
              "Offence Code                      object\n",
              "CR Number                          int64\n",
              "Dispatch Date / Time      datetime64[ns]\n",
              "NIBRS Code                        object\n",
              "Victims                            int64\n",
              "Crime Name1                       object\n",
              "Crime Name2                       object\n",
              "Crime Name3                       object\n",
              "Police District Name              object\n",
              "Block Address                     object\n",
              "City                              object\n",
              "State                             object\n",
              "Zip Code                         float64\n",
              "Agency                            object\n",
              "Place                             object\n",
              "Sector                            object\n",
              "Beat                              object\n",
              "PRA                               object\n",
              "Address Number                   float64\n",
              "Street Prefix                     object\n",
              "Street Name                       object\n",
              "Street Suffix                     object\n",
              "Street Type                       object\n",
              "Start_Date_Time                   object\n",
              "End_Date_Time                     object\n",
              "Latitude                         float64\n",
              "Longitude                        float64\n",
              "Police District Number            object\n",
              "Location                          object\n",
              "dtype: object"
            ]
          },
          "metadata": {
            "tags": []
          },
          "execution_count": 22
        }
      ]
    },
    {
      "cell_type": "code",
      "metadata": {
        "colab_type": "code",
        "id": "YSxkczwNzzCw",
        "outputId": "eebce313-4c02-4c65-a612-845724ef4d5b",
        "colab": {
          "base_uri": "https://localhost:8080/",
          "height": 34
        }
      },
      "source": [
        "len(data_train['Zip Code'].unique())"
      ],
      "execution_count": 0,
      "outputs": [
        {
          "output_type": "execute_result",
          "data": {
            "text/plain": [
              "142"
            ]
          },
          "metadata": {
            "tags": []
          },
          "execution_count": 23
        }
      ]
    },
    {
      "cell_type": "code",
      "metadata": {
        "id": "2wk0_hdBVbOp",
        "colab_type": "code",
        "colab": {}
      },
      "source": [
        ""
      ],
      "execution_count": 0,
      "outputs": []
    },
    {
      "cell_type": "code",
      "metadata": {
        "id": "p6Koad2d_bkG",
        "colab_type": "code",
        "outputId": "b176a98d-2079-4760-f1b9-5c2a97c31e22",
        "colab": {
          "base_uri": "https://localhost:8080/",
          "height": 621
        }
      },
      "source": [
        "from IPython.display import IFrame\n",
        "path = \"https://balldatascientist.github.io/Crimes_prediction/\"\n",
        "\n",
        "IFrame(src=path, width=1000, height=600)"
      ],
      "execution_count": 0,
      "outputs": [
        {
          "output_type": "execute_result",
          "data": {
            "text/html": [
              "\n",
              "        <iframe\n",
              "            width=\"1000\"\n",
              "            height=\"600\"\n",
              "            src=\"https://balldatascientist.github.io/Crimes_prediction/\"\n",
              "            frameborder=\"0\"\n",
              "            allowfullscreen\n",
              "        ></iframe>\n",
              "        "
            ],
            "text/plain": [
              "<IPython.lib.display.IFrame at 0x7fd522048860>"
            ]
          },
          "metadata": {
            "tags": []
          },
          "execution_count": 43
        }
      ]
    },
    {
      "cell_type": "markdown",
      "metadata": {
        "colab_type": "text",
        "id": "JFrSZexo7dDG"
      },
      "source": [
        "**Crime VS Date Time**"
      ]
    },
    {
      "cell_type": "code",
      "metadata": {
        "colab_type": "code",
        "id": "L2TqOw2Fu6PR",
        "outputId": "53692402-9e35-4970-9d79-abb2c2f3acca",
        "colab": {
          "base_uri": "https://localhost:8080/",
          "height": 383
        }
      },
      "source": [
        "_, ax = plt.subplots(figsize=(10, 6))\n",
        "target_train.groupby( target_train['Dispatch Date / Time'])['Crime'].sum().plot(color ='red')\n",
        "ax.set_title(\"Evolution du nombre de crimes à chaque instant\", fontsize=12)\n",
        "ax.set_ylabel(\"Nombre de crimes\", fontsize=12)\n",
        "plt.show()"
      ],
      "execution_count": 0,
      "outputs": [
        {
          "output_type": "display_data",
          "data": {
            "image/png": "[encoded data removed]",
            "text/plain": [
              "<Figure size 720x432 with 1 Axes>"
            ]
          },
          "metadata": {
            "tags": []
          }
        }
      ]
    },
    {
      "cell_type": "code",
      "metadata": {
        "colab_type": "code",
        "id": "uXWtDCWRi_bf",
        "outputId": "9e193108-40d9-4819-e6eb-c97ab7f93865",
        "colab": {
          "base_uri": "https://localhost:8080/",
          "height": 407
        }
      },
      "source": [
        "_, ax = plt.subplots(figsize=(10, 6))\n",
        "target_train.groupby( target_train['Dispatch Date / Time'].dt.day)['Crime'].sum().plot(color ='red')\n",
        "data_train.groupby( data_train['Dispatch Date / Time'].dt.day)['Victims'].sum().plot(color ='green')\n",
        "ax.set_title(\"Evolution du nombre de crimes par jour\", fontsize=12)\n",
        "ax.set_xlabel(\"jour\", fontsize=12)\n",
        "ax.set_ylabel(\"Nombre de crimes\", fontsize=12)\n",
        "ax.legend()\n",
        "plt.show()"
      ],
      "execution_count": 0,
      "outputs": [
        {
          "output_type": "display_data",
          "data": {
            "image/png": "[encoded data removed]",
            "text/plain": [
              "<Figure size 720x432 with 1 Axes>"
            ]
          },
          "metadata": {
            "tags": []
          }
        }
      ]
    },
    {
      "cell_type": "code",
      "metadata": {
        "colab_type": "code",
        "id": "XrilQL2k3re2",
        "outputId": "5acb162b-fd26-4d80-a7f0-af5a946c089f",
        "colab": {
          "base_uri": "https://localhost:8080/",
          "height": 407
        }
      },
      "source": [
        "_, ax = plt.subplots(figsize=(10, 6))\n",
        "target_train.groupby( target_train['Dispatch Date / Time'].dt.month)['Crime'].sum().plot(color ='red')\n",
        "data_train.groupby( data_train['Dispatch Date / Time'].dt.month)['Victims'].sum().plot(color ='green')\n",
        "ax.set_title(\"Evolution du nombre de crimes par mois\", fontsize=12)\n",
        "ax.set_xlabel(\"Mois\", fontsize=12)\n",
        "ax.set_ylabel(\"Nombre de crimes\", fontsize=12)\n",
        "ax.legend()\n",
        "plt.show()"
      ],
      "execution_count": 0,
      "outputs": [
        {
          "output_type": "display_data",
          "data": {
            "image/png": "[encoded data removed]",
            "text/plain": [
              "<Figure size 720x432 with 1 Axes>"
            ]
          },
          "metadata": {
            "tags": []
          }
        }
      ]
    },
    {
      "cell_type": "code",
      "metadata": {
        "colab_type": "code",
        "id": "HSGFUl_rrKuM",
        "outputId": "4b988a3b-ba0a-4dcc-dd17-4b973360ea96",
        "colab": {
          "base_uri": "https://localhost:8080/",
          "height": 34
        }
      },
      "source": [
        "sum(target_train['Dispatch Date / Time'].dt.year==2019)"
      ],
      "execution_count": 0,
      "outputs": [
        {
          "output_type": "execute_result",
          "data": {
            "text/plain": [
              "25303"
            ]
          },
          "metadata": {
            "tags": []
          },
          "execution_count": 27
        }
      ]
    },
    {
      "cell_type": "code",
      "metadata": {
        "colab_type": "code",
        "id": "Lw5DgjzWs6ck",
        "outputId": "44482b9b-1e09-4f42-e9c4-b128732ef089",
        "colab": {
          "base_uri": "https://localhost:8080/",
          "height": 111
        }
      },
      "source": [
        "target_train[target_train['Dispatch Date / Time'].dt.year==2010]"
      ],
      "execution_count": 0,
      "outputs": [
        {
          "output_type": "execute_result",
          "data": {
            "text/html": [
              "<div>\n",
              "<style scoped>\n",
              "    .dataframe tbody tr th:only-of-type {\n",
              "        vertical-align: middle;\n",
              "    }\n",
              "\n",
              "    .dataframe tbody tr th {\n",
              "        vertical-align: top;\n",
              "    }\n",
              "\n",
              "    .dataframe thead th {\n",
              "        text-align: right;\n",
              "    }\n",
              "</style>\n",
              "<table border=\"1\" class=\"dataframe\">\n",
              "  <thead>\n",
              "    <tr style=\"text-align: right;\">\n",
              "      <th></th>\n",
              "      <th>Dispatch Date / Time</th>\n",
              "      <th>Zip Code</th>\n",
              "      <th>Crime</th>\n",
              "    </tr>\n",
              "  </thead>\n",
              "  <tbody>\n",
              "    <tr>\n",
              "      <th>31459</th>\n",
              "      <td>2010-03-10</td>\n",
              "      <td>20906.0</td>\n",
              "      <td>1</td>\n",
              "    </tr>\n",
              "    <tr>\n",
              "      <th>68761</th>\n",
              "      <td>2010-09-20</td>\n",
              "      <td>20816.0</td>\n",
              "      <td>1</td>\n",
              "    </tr>\n",
              "  </tbody>\n",
              "</table>\n",
              "</div>"
            ],
            "text/plain": [
              "      Dispatch Date / Time  Zip Code  Crime\n",
              "31459           2010-03-10   20906.0      1\n",
              "68761           2010-09-20   20816.0      1"
            ]
          },
          "metadata": {
            "tags": []
          },
          "execution_count": 28
        }
      ]
    },
    {
      "cell_type": "markdown",
      "metadata": {
        "colab_type": "text",
        "id": "hjSVtBe-7oXr"
      },
      "source": [
        "**Crime VS Zip Code**"
      ]
    },
    {
      "cell_type": "code",
      "metadata": {
        "colab_type": "code",
        "id": "gQEqRDftdlIR",
        "outputId": "24250435-2464-412c-9845-d7454ea15d04",
        "colab": {
          "base_uri": "https://localhost:8080/",
          "height": 413
        }
      },
      "source": [
        "_, ax = plt.subplots(figsize=(10, 6))\n",
        "target_train.reset_index().groupby('Zip Code')['Crime'].sum().reset_index()['Crime'].plot(kind='hist', ax=ax, bins=9, rwidth=0.9, orientation='horizontal')\n",
        "ax.set_title(\"Zip Code en fonction du nombre total de crimes\", fontsize=20)\n",
        "ax.set_xlabel(\"Nombre de Zip Code\", fontsize=14)\n",
        "ax.set_ylabel(\"Nombre total de crimes\", fontsize=14)\n",
        "plt.show()"
      ],
      "execution_count": 0,
      "outputs": [
        {
          "output_type": "display_data",
          "data": {
            "image/png": "[encoded data removed]",
            "text/plain": [
              "<Figure size 720x432 with 1 Axes>"
            ]
          },
          "metadata": {
            "tags": []
          }
        }
      ]
    },
    {
      "cell_type": "markdown",
      "metadata": {
        "colab_type": "text",
        "id": "iga_P2UQEije"
      },
      "source": [
        "**Crime VS Crime Name1**"
      ]
    },
    {
      "cell_type": "code",
      "metadata": {
        "colab_type": "code",
        "id": "FsnQJL8lDBiV",
        "colab": {}
      },
      "source": [
        "df = target_train\n",
        "df['Crime Name1'] = data_train['Crime Name1']"
      ],
      "execution_count": 0,
      "outputs": []
    },
    {
      "cell_type": "code",
      "metadata": {
        "colab_type": "code",
        "id": "X7-n0C1UDW_9",
        "outputId": "8cb790d3-345f-485a-a303-2ed872f974aa",
        "colab": {
          "base_uri": "https://localhost:8080/",
          "height": 519
        }
      },
      "source": [
        "_, ax = plt.subplots(figsize=(10, 6))\n",
        "df.groupby(df['Crime Name1'])['Crime'].sum().plot(kind='bar')\n",
        "ax.set_title(\"Histogramme des catégorie de crime\", fontsize=20)\n",
        "ax.set_xlabel(\"Crime Name\", fontsize=14)\n",
        "ax.set_ylabel(\"Nombre total de crimes\", fontsize=14)\n",
        "plt.show()"
      ],
      "execution_count": 0,
      "outputs": [
        {
          "output_type": "display_data",
          "data": {
            "image/png": "[encoded data removed]",
            "text/plain": [
              "<Figure size 720x432 with 1 Axes>"
            ]
          },
          "metadata": {
            "tags": []
          }
        }
      ]
    },
    {
      "cell_type": "markdown",
      "metadata": {
        "colab_type": "text",
        "id": "FDrwFw9NnwJ8"
      },
      "source": [
        "<a style=\"color:#6699ff\"> III. Feature Engineering</a>"
      ]
    },
    {
      "cell_type": "code",
      "metadata": {
        "colab_type": "code",
        "id": "YNtzEm5J266p",
        "colab": {}
      },
      "source": [
        "import warnings\n",
        "warnings.filterwarnings('ignore')"
      ],
      "execution_count": 0,
      "outputs": []
    },
    {
      "cell_type": "markdown",
      "metadata": {
        "colab_type": "text",
        "id": "XHa7Q_OZybv0"
      },
      "source": [
        "<img src=\"https://github.com/balldatascientist/Crimes_prediction/blob/master/images/inspection.jpg?raw=1\" height=\"300\" width=\"900\" align=\"right\">"
      ]
    },
    {
      "cell_type": "code",
      "metadata": {
        "colab_type": "code",
        "id": "5mxsY3Bu46aT",
        "colab": {}
      },
      "source": [
        "X_array = data_train.copy()\n",
        "\n",
        "y_array = target_train['Crime']"
      ],
      "execution_count": 0,
      "outputs": []
    },
    {
      "cell_type": "code",
      "metadata": {
        "colab_type": "code",
        "id": "hO64p7eo3Aac",
        "colab": {}
      },
      "source": [
        "train_col = ['Victims', 'Dispatch Date / Time', 'Zip Code', 'Crime Name1', 'Crime Name2', 'Crime Name3', 'Latitude','Longitude']\n",
        "X_array = data_train[train_col]\n",
        "y_array = target_train['Crime']"
      ],
      "execution_count": 0,
      "outputs": []
    },
    {
      "cell_type": "code",
      "metadata": {
        "colab_type": "code",
        "id": "ek18hViK3FhV",
        "colab": {}
      },
      "source": [
        "X_array.head()"
      ],
      "execution_count": 0,
      "outputs": []
    },
    {
      "cell_type": "markdown",
      "metadata": {
        "colab_type": "text",
        "id": "KjB5r6TFOOpx"
      },
      "source": [
        "- Create a transformer that deals with missing values"
      ]
    },
    {
      "cell_type": "code",
      "metadata": {
        "colab_type": "code",
        "id": "TZR6pm_ixdAp",
        "colab": {}
      },
      "source": [
        "num_cols = ['Victims','Latitude','Longitude']"
      ],
      "execution_count": 0,
      "outputs": []
    },
    {
      "cell_type": "code",
      "metadata": {
        "colab_type": "code",
        "id": "iTE91teZn7KC",
        "colab": {}
      },
      "source": [
        "\n",
        "from sklearn.impute import SimpleImputer\n",
        "from sklearn.pipeline import Pipeline\n",
        "\n",
        "numeric_transformer = Pipeline(steps=[\n",
        "    ('impute', SimpleImputer(strategy='mean'))\n",
        "])"
      ],
      "execution_count": 0,
      "outputs": []
    },
    {
      "cell_type": "markdown",
      "metadata": {
        "colab_type": "text",
        "id": "kZt8NLvJx99z"
      },
      "source": [
        "- Create a transformer to split Date Time into separate year, month, day columns:"
      ]
    },
    {
      "cell_type": "code",
      "metadata": {
        "colab_type": "code",
        "id": "pXSpMHD3yAZc",
        "colab": {}
      },
      "source": [
        "from sklearn.preprocessing import FunctionTransformer\n",
        "\n",
        "def process_date(X):\n",
        "    date = pd.to_datetime(X['Dispatch Date / Time'], format='%Y-%m-%d')\n",
        "    return np.c_[date.dt.year, date.dt.month, date.dt.day]\n",
        "\n",
        "date_transformer = FunctionTransformer(process_date, validate=False)"
      ],
      "execution_count": 0,
      "outputs": []
    },
    {
      "cell_type": "markdown",
      "metadata": {
        "colab_type": "text",
        "id": "cCLqNsBsPKox"
      },
      "source": [
        "-  Only keeping the numbers in the `Zipcode` column:"
      ]
    },
    {
      "cell_type": "code",
      "metadata": {
        "colab_type": "code",
        "id": "Zh4gUp0ByDeL",
        "colab": {}
      },
      "source": [
        "def zipcodes(X):\n",
        "    zipcode_nums = pd.to_numeric(X['Zip Code'], errors='coerce')\n",
        "    return zipcode_nums.values[:, np.newaxis]\n",
        "\n",
        "\n",
        "zipcode_transformer = FunctionTransformer(zipcodes, validate=False)"
      ],
      "execution_count": 0,
      "outputs": []
    },
    {
      "cell_type": "code",
      "metadata": {
        "colab_type": "code",
        "id": "tmxUURopyHY_",
        "colab": {}
      },
      "source": [
        "from sklearn.compose import ColumnTransformer\n",
        "from sklearn.pipeline import make_pipeline\n",
        "\n",
        "zipcode_col = ['Zip Code']\n",
        "date_cols = ['Dispatch Date / Time']\n",
        "drop_cols = ['Crime Name1', 'Crime Name2', 'Crime Name3']\n",
        "\n",
        "preprocessor_comp = ColumnTransformer(\n",
        "    transformers=[\n",
        "        ('num', numeric_transformer, num_cols),\n",
        "        ('zipcode', make_pipeline(zipcode_transformer, SimpleImputer(strategy='median')), zipcode_col),\n",
        "        ('date', make_pipeline(date_transformer, SimpleImputer(strategy='median')), date_cols),\n",
        "        ('drop cols', 'drop', drop_cols),\n",
        "    ])"
      ],
      "execution_count": 0,
      "outputs": []
    },
    {
      "cell_type": "code",
      "metadata": {
        "colab_type": "code",
        "id": "uR9PP6iJyKyc",
        "colab": {}
      },
      "source": [
        "# Checking if it works\n",
        "preprocessor_comp.fit_transform(X_array)\n"
      ],
      "execution_count": 0,
      "outputs": []
    },
    {
      "cell_type": "markdown",
      "metadata": {
        "colab_type": "text",
        "id": "pcNX4iUrnzrP"
      },
      "source": [
        "<a style=\"color:#6699ff\"> IV. Submission</a>"
      ]
    },
    {
      "cell_type": "code",
      "metadata": {
        "colab_type": "code",
        "id": "Wtq-alrJn8Pn",
        "colab": {}
      },
      "source": [
        ""
      ],
      "execution_count": 0,
      "outputs": []
    }
  ]
}